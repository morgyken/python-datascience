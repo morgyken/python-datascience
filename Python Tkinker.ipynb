{
 "cells": [
  {
   "cell_type": "code",
   "execution_count": 3,
   "metadata": {},
   "outputs": [],
   "source": [
    "from tkinter import *\n",
    "root = Tk()\n",
    "myLabel = Label(root, text = \"God Morning!\")\n",
    "myLabel.pack()\n",
    "root.mainloop()"
   ]
  },
  {
   "cell_type": "code",
   "execution_count": 12,
   "metadata": {},
   "outputs": [],
   "source": [
    "from tkinter import *\n",
    "root = Tk()\n",
    "myLabel = Label(root, text = \"God Morning!\").grid(row=0, column=1)\n",
    "myLabel2 = Label(root, text = \"Welcome tk inter!\").grid(row=1, column=1)\n",
    "myLabel3 = Label(root, text = \"My label is here!\").grid(row=2, column=2)\n",
    "myLabel4= Label(root, text = \"Tkinter My label!\").grid(row=3, column=2)\n",
    "\n",
    "root.mainloop()"
   ]
  },
  {
   "cell_type": "code",
   "execution_count": 25,
   "metadata": {},
   "outputs": [],
   "source": [
    "# button \n",
    "from tkinter import *\n",
    "root = Tk()\n",
    "def myClick():\n",
    "    myLabel = Label(root, text=\"I clikced the Button!\")\n",
    "    myLabel.pack()\n",
    "\n",
    "mybutton = Button(root, text=\"My button\", fg=\"blue\", bg=\"red\", padx=50, pady=20, command = myClick)\n",
    "inputbox =entry()\n",
    "mybutton.pack()\n",
    "root.mainloop()"
   ]
  },
  {
   "cell_type": "code",
   "execution_count": 29,
   "metadata": {},
   "outputs": [],
   "source": [
    "#input \n",
    "# button \n",
    "from tkinter import *\n",
    "root = Tk()\n",
    "def myClick():\n",
    "    myLabel = Label(root, text=\"I clikced the Button!\")\n",
    "    myLabel.pack()\n",
    "\n",
    "mybutton = Button(root, text=\"My button\", fg=\"blue\", bg=\"red\", padx=50, pady=20, command = myClick)\n",
    "inputbox =Entry(root, width=50, text=\"my first Entry\")\n",
    "inputbox.pack()\n",
    "mybutton.pack()\n",
    "root.mainloop()"
   ]
  },
  {
   "cell_type": "code",
   "execution_count": 38,
   "metadata": {},
   "outputs": [],
   "source": [
    "#Entry\n",
    "\n",
    "from tkinter import *\n",
    "root = Tk()\n",
    "def myClick():\n",
    "    e=Entry(root, width=50)\n",
    "    e.insert(0, \"Enter Your name: \")\n",
    "    e.pack()\n",
    "    hello = \"Hello\" + e.get()\n",
    "    myLabel = Label(root, text=\"Morning\" + hello)   \n",
    "    myLabel.pack()\n",
    "mybutton = Button(root, text=\"My button\", fg=\"blue\", bg=\"red\", padx=50, pady=20, command = myClick)\n",
    "mybutton.pack()\n",
    "root.mainloop()\n"
   ]
  },
  {
   "cell_type": "code",
   "execution_count": null,
   "metadata": {},
   "outputs": [],
   "source": []
  }
 ],
 "metadata": {
  "kernelspec": {
   "display_name": "Python 3",
   "language": "python",
   "name": "python3"
  },
  "language_info": {
   "codemirror_mode": {
    "name": "ipython",
    "version": 3
   },
   "file_extension": ".py",
   "mimetype": "text/x-python",
   "name": "python",
   "nbconvert_exporter": "python",
   "pygments_lexer": "ipython3",
   "version": "3.7.4"
  }
 },
 "nbformat": 4,
 "nbformat_minor": 2
}
