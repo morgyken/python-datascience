{
 "cells": [
  {
   "cell_type": "code",
   "execution_count": 6,
   "metadata": {},
   "outputs": [],
   "source": [
    "import io\n",
    "import zipfile\n",
    "import requests\n",
    "import networkx as nx\n",
    "import numpy as np\n",
    "import pandas as pd\n",
    "import json\n",
    "import smopy\n",
    "import matplotlib.pyplot as plt\n",
    "%matplotlib inline"
   ]
  },
  {
   "cell_type": "code",
   "execution_count": 2,
   "metadata": {},
   "outputs": [
    {
     "name": "stdout",
     "output_type": "stream",
     "text": [
      "Collecting smopy\n",
      "  Downloading smopy-0.0.7-py3-none-any.whl (6.1 kB)\n",
      "Requirement already satisfied: six in d:\\programdata\\anaconda3\\lib\\site-packages (from smopy) (1.14.0)\n",
      "Requirement already satisfied: ipython in d:\\programdata\\anaconda3\\lib\\site-packages (from smopy) (7.12.0)\n",
      "Requirement already satisfied: pillow in d:\\programdata\\anaconda3\\lib\\site-packages (from smopy) (7.0.0)\n",
      "Requirement already satisfied: numpy in d:\\programdata\\anaconda3\\lib\\site-packages (from smopy) (1.18.1)\n",
      "Requirement already satisfied: matplotlib in d:\\programdata\\anaconda3\\lib\\site-packages (from smopy) (3.1.3)\n",
      "Requirement already satisfied: traitlets>=4.2 in d:\\programdata\\anaconda3\\lib\\site-packages (from ipython->smopy) (4.3.3)\n",
      "Requirement already satisfied: backcall in d:\\programdata\\anaconda3\\lib\\site-packages (from ipython->smopy) (0.1.0)\n",
      "Requirement already satisfied: prompt-toolkit!=3.0.0,!=3.0.1,<3.1.0,>=2.0.0 in d:\\programdata\\anaconda3\\lib\\site-packages (from ipython->smopy) (3.0.3)\n",
      "Requirement already satisfied: setuptools>=18.5 in d:\\programdata\\anaconda3\\lib\\site-packages (from ipython->smopy) (45.2.0.post20200210)\n",
      "Requirement already satisfied: colorama; sys_platform == \"win32\" in d:\\programdata\\anaconda3\\lib\\site-packages (from ipython->smopy) (0.4.3)\n",
      "Requirement already satisfied: decorator in d:\\programdata\\anaconda3\\lib\\site-packages (from ipython->smopy) (4.4.1)\n",
      "Requirement already satisfied: jedi>=0.10 in d:\\programdata\\anaconda3\\lib\\site-packages (from ipython->smopy) (0.14.1)\n",
      "Requirement already satisfied: pickleshare in d:\\programdata\\anaconda3\\lib\\site-packages (from ipython->smopy) (0.7.5)\n",
      "Requirement already satisfied: pygments in d:\\programdata\\anaconda3\\lib\\site-packages (from ipython->smopy) (2.5.2)\n",
      "Requirement already satisfied: kiwisolver>=1.0.1 in d:\\programdata\\anaconda3\\lib\\site-packages (from matplotlib->smopy) (1.1.0)\n",
      "Requirement already satisfied: cycler>=0.10 in d:\\programdata\\anaconda3\\lib\\site-packages (from matplotlib->smopy) (0.10.0)\n",
      "Requirement already satisfied: pyparsing!=2.0.4,!=2.1.2,!=2.1.6,>=2.0.1 in d:\\programdata\\anaconda3\\lib\\site-packages (from matplotlib->smopy) (2.4.6)\n",
      "Requirement already satisfied: python-dateutil>=2.1 in d:\\programdata\\anaconda3\\lib\\site-packages (from matplotlib->smopy) (2.8.1)\n",
      "Requirement already satisfied: ipython-genutils in d:\\programdata\\anaconda3\\lib\\site-packages (from traitlets>=4.2->ipython->smopy) (0.2.0)\n",
      "Requirement already satisfied: wcwidth in d:\\programdata\\anaconda3\\lib\\site-packages (from prompt-toolkit!=3.0.0,!=3.0.1,<3.1.0,>=2.0.0->ipython->smopy) (0.1.8)\n",
      "Requirement already satisfied: parso>=0.5.0 in d:\\programdata\\anaconda3\\lib\\site-packages (from jedi>=0.10->ipython->smopy) (0.5.2)\n",
      "Installing collected packages: smopy\n",
      "Successfully installed smopy-0.0.7\n",
      "Note: you may need to restart the kernel to use updated packages.\n"
     ]
    }
   ],
   "source": [
    "pip install smopy"
   ]
  },
  {
   "cell_type": "code",
   "execution_count": 7,
   "metadata": {},
   "outputs": [],
   "source": [
    "cities = pd.read_csv('us-cities.txt', sep=\",\", header=None)\n",
    "cities.columns = [\"City\", \"state\", \"longitude\", \"latitude\", \"population\"]"
   ]
  },
  {
   "cell_type": "code",
   "execution_count": 9,
   "metadata": {},
   "outputs": [
    {
     "data": {
      "text/html": [
       "<div>\n",
       "<style scoped>\n",
       "    .dataframe tbody tr th:only-of-type {\n",
       "        vertical-align: middle;\n",
       "    }\n",
       "\n",
       "    .dataframe tbody tr th {\n",
       "        vertical-align: top;\n",
       "    }\n",
       "\n",
       "    .dataframe thead th {\n",
       "        text-align: right;\n",
       "    }\n",
       "</style>\n",
       "<table border=\"1\" class=\"dataframe\">\n",
       "  <thead>\n",
       "    <tr style=\"text-align: right;\">\n",
       "      <th></th>\n",
       "      <th>City</th>\n",
       "      <th>state</th>\n",
       "      <th>longitude</th>\n",
       "      <th>latitude</th>\n",
       "      <th>population</th>\n",
       "    </tr>\n",
       "  </thead>\n",
       "  <tbody>\n",
       "    <tr>\n",
       "      <th>0</th>\n",
       "      <td>Port Hueneme</td>\n",
       "      <td>CA</td>\n",
       "      <td>34.155834</td>\n",
       "      <td>-119.202789</td>\n",
       "      <td>22173</td>\n",
       "    </tr>\n",
       "    <tr>\n",
       "      <th>1</th>\n",
       "      <td>Auburn</td>\n",
       "      <td>NY</td>\n",
       "      <td>42.933334</td>\n",
       "      <td>-76.566666</td>\n",
       "      <td>65738</td>\n",
       "    </tr>\n",
       "    <tr>\n",
       "      <th>2</th>\n",
       "      <td>Jamestown</td>\n",
       "      <td>NY</td>\n",
       "      <td>42.095554</td>\n",
       "      <td>-79.238609</td>\n",
       "      <td>29315</td>\n",
       "    </tr>\n",
       "    <tr>\n",
       "      <th>3</th>\n",
       "      <td>Fulton</td>\n",
       "      <td>MO</td>\n",
       "      <td>38.846668</td>\n",
       "      <td>-91.948059</td>\n",
       "      <td>108000</td>\n",
       "    </tr>\n",
       "  </tbody>\n",
       "</table>\n",
       "</div>"
      ],
      "text/plain": [
       "           City state  longitude    latitude  population\n",
       "0  Port Hueneme    CA  34.155834 -119.202789       22173\n",
       "1        Auburn    NY  42.933334  -76.566666       65738\n",
       "2     Jamestown    NY  42.095554  -79.238609       29315\n",
       "3        Fulton    MO  38.846668  -91.948059      108000"
      ]
     },
     "execution_count": 9,
     "metadata": {},
     "output_type": "execute_result"
    }
   ],
   "source": [
    "cities"
   ]
  },
  {
   "cell_type": "code",
   "execution_count": 10,
   "metadata": {},
   "outputs": [],
   "source": [
    "mean = cities[\"population\"].mean()"
   ]
  },
  {
   "cell_type": "code",
   "execution_count": 11,
   "metadata": {},
   "outputs": [],
   "source": [
    "median = cities[\"population\"].median()"
   ]
  },
  {
   "cell_type": "code",
   "execution_count": 12,
   "metadata": {},
   "outputs": [
    {
     "data": {
      "text/plain": [
       "(56306.5, 47526.5)"
      ]
     },
     "execution_count": 12,
     "metadata": {},
     "output_type": "execute_result"
    }
   ],
   "source": [
    "mean, median"
   ]
  },
  {
   "cell_type": "code",
   "execution_count": 17,
   "metadata": {},
   "outputs": [],
   "source": [
    "import HTML"
   ]
  },
  {
   "cell_type": "code",
   "execution_count": 18,
   "metadata": {},
   "outputs": [
    {
     "name": "stdout",
     "output_type": "stream",
     "text": [
      "<TABLE border=\"1\" style=\"border: 1px solid #000000; border-collapse: collapse;\" cellpadding=\"4\">\n",
      " <TR>\n",
      "  <TH>Mean</TH>\n",
      "  <TH>Median</TH>\n",
      " </TR>\n",
      " <TR>\n",
      "  <TD>Mean</TD>\n",
      "  <TD>56306.5</TD>\n",
      " </TR>\n",
      " <TR>\n",
      "  <TD>Median</TD>\n",
      "  <TD>47526.5</TD>\n",
      " </TR>\n",
      "</TABLE>\n"
     ]
    }
   ],
   "source": [
    "table_data = [\n",
    "        ['Mean',         mean],\n",
    "        ['Median',      median],\n",
    "    ]\n",
    "\n",
    "htmlcode = HTML.table(table_data,\n",
    "    header_row=['Mean',   'Median'])\n",
    "print (htmlcode)"
   ]
  },
  {
   "cell_type": "code",
   "execution_count": null,
   "metadata": {},
   "outputs": [],
   "source": [
    "route1= "
   ]
  }
 ],
 "metadata": {
  "kernelspec": {
   "display_name": "Python 3",
   "language": "python",
   "name": "python3"
  },
  "language_info": {
   "codemirror_mode": {
    "name": "ipython",
    "version": 3
   },
   "file_extension": ".py",
   "mimetype": "text/x-python",
   "name": "python",
   "nbconvert_exporter": "python",
   "pygments_lexer": "ipython3",
   "version": "3.7.6"
  }
 },
 "nbformat": 4,
 "nbformat_minor": 4
}
